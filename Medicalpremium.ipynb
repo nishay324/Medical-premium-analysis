{
  "nbformat": 4,
  "nbformat_minor": 0,
  "metadata": {
    "colab": {
      "name": "Medicalpremium.ipynb",
      "provenance": [],
      "toc_visible": true
    },
    "kernelspec": {
      "name": "python3",
      "display_name": "Python 3"
    },
    "language_info": {
      "name": "python"
    }
  },
  "cells": [
    {
      "cell_type": "markdown",
      "metadata": {
        "id": "YhOMfkF2IFXa"
      },
      "source": [
        "# Problem statement\n",
        "The given data set contains a user's medical history in the form of whether they have a specific condition or not, their age, height, weight, etc along with the premium they have to pay in INR for insurance. Perform an exploratory data analysis to determine what factors play an important role in determining the premium of the user."
      ]
    },
    {
      "cell_type": "code",
      "metadata": {
        "id": "I9FQVgwUH_PZ"
      },
      "source": [
        "import numpy as np\n",
        "import pandas as pd\n",
        "import seaborn as sns\n",
        "import matplotlib\n",
        "import matplotlib.pyplot as plt\n"
      ],
      "execution_count": 161,
      "outputs": []
    },
    {
      "cell_type": "code",
      "metadata": {
        "id": "awP1piCxtp18"
      },
      "source": [
        "df= pd.read_csv('Medicalpremium.csv')"
      ],
      "execution_count": 162,
      "outputs": []
    },
    {
      "cell_type": "code",
      "metadata": {
        "colab": {
          "base_uri": "https://localhost:8080/",
          "height": 226
        },
        "id": "DID1APrKvoJb",
        "outputId": "787ba9f1-c6de-4c45-d801-6c90e5613755"
      },
      "source": [
        "df.sample(5)"
      ],
      "execution_count": 163,
      "outputs": [
        {
          "output_type": "execute_result",
          "data": {
            "text/html": [
              "<div>\n",
              "<style scoped>\n",
              "    .dataframe tbody tr th:only-of-type {\n",
              "        vertical-align: middle;\n",
              "    }\n",
              "\n",
              "    .dataframe tbody tr th {\n",
              "        vertical-align: top;\n",
              "    }\n",
              "\n",
              "    .dataframe thead th {\n",
              "        text-align: right;\n",
              "    }\n",
              "</style>\n",
              "<table border=\"1\" class=\"dataframe\">\n",
              "  <thead>\n",
              "    <tr style=\"text-align: right;\">\n",
              "      <th></th>\n",
              "      <th>Age</th>\n",
              "      <th>Diabetes</th>\n",
              "      <th>BloodPressureProblems</th>\n",
              "      <th>AnyTransplants</th>\n",
              "      <th>AnyChronicDiseases</th>\n",
              "      <th>Height</th>\n",
              "      <th>Weight</th>\n",
              "      <th>KnownAllergies</th>\n",
              "      <th>HistoryOfCancerInFamily</th>\n",
              "      <th>NumberOfMajorSurgeries</th>\n",
              "      <th>PremiumPrice</th>\n",
              "    </tr>\n",
              "  </thead>\n",
              "  <tbody>\n",
              "    <tr>\n",
              "      <th>610</th>\n",
              "      <td>26</td>\n",
              "      <td>0</td>\n",
              "      <td>0</td>\n",
              "      <td>0</td>\n",
              "      <td>0</td>\n",
              "      <td>165</td>\n",
              "      <td>97</td>\n",
              "      <td>0</td>\n",
              "      <td>0</td>\n",
              "      <td>0</td>\n",
              "      <td>15000</td>\n",
              "    </tr>\n",
              "    <tr>\n",
              "      <th>22</th>\n",
              "      <td>35</td>\n",
              "      <td>0</td>\n",
              "      <td>0</td>\n",
              "      <td>0</td>\n",
              "      <td>0</td>\n",
              "      <td>163</td>\n",
              "      <td>92</td>\n",
              "      <td>0</td>\n",
              "      <td>0</td>\n",
              "      <td>1</td>\n",
              "      <td>32000</td>\n",
              "    </tr>\n",
              "    <tr>\n",
              "      <th>795</th>\n",
              "      <td>18</td>\n",
              "      <td>0</td>\n",
              "      <td>0</td>\n",
              "      <td>0</td>\n",
              "      <td>0</td>\n",
              "      <td>148</td>\n",
              "      <td>75</td>\n",
              "      <td>1</td>\n",
              "      <td>0</td>\n",
              "      <td>0</td>\n",
              "      <td>15000</td>\n",
              "    </tr>\n",
              "    <tr>\n",
              "      <th>945</th>\n",
              "      <td>55</td>\n",
              "      <td>0</td>\n",
              "      <td>0</td>\n",
              "      <td>0</td>\n",
              "      <td>0</td>\n",
              "      <td>157</td>\n",
              "      <td>73</td>\n",
              "      <td>0</td>\n",
              "      <td>0</td>\n",
              "      <td>0</td>\n",
              "      <td>29000</td>\n",
              "    </tr>\n",
              "    <tr>\n",
              "      <th>120</th>\n",
              "      <td>54</td>\n",
              "      <td>0</td>\n",
              "      <td>1</td>\n",
              "      <td>0</td>\n",
              "      <td>1</td>\n",
              "      <td>164</td>\n",
              "      <td>64</td>\n",
              "      <td>0</td>\n",
              "      <td>0</td>\n",
              "      <td>2</td>\n",
              "      <td>28000</td>\n",
              "    </tr>\n",
              "  </tbody>\n",
              "</table>\n",
              "</div>"
            ],
            "text/plain": [
              "     Age  Diabetes  ...  NumberOfMajorSurgeries  PremiumPrice\n",
              "610   26         0  ...                       0         15000\n",
              "22    35         0  ...                       1         32000\n",
              "795   18         0  ...                       0         15000\n",
              "945   55         0  ...                       0         29000\n",
              "120   54         0  ...                       2         28000\n",
              "\n",
              "[5 rows x 11 columns]"
            ]
          },
          "metadata": {},
          "execution_count": 163
        }
      ]
    },
    {
      "cell_type": "code",
      "metadata": {
        "colab": {
          "base_uri": "https://localhost:8080/"
        },
        "id": "NUk3qQ8ivrn2",
        "outputId": "3161ea50-1a29-4806-bfaf-8fe727f4f714"
      },
      "source": [
        "df.info()"
      ],
      "execution_count": 164,
      "outputs": [
        {
          "output_type": "stream",
          "text": [
            "<class 'pandas.core.frame.DataFrame'>\n",
            "RangeIndex: 986 entries, 0 to 985\n",
            "Data columns (total 11 columns):\n",
            " #   Column                   Non-Null Count  Dtype\n",
            "---  ------                   --------------  -----\n",
            " 0   Age                      986 non-null    int64\n",
            " 1   Diabetes                 986 non-null    int64\n",
            " 2   BloodPressureProblems    986 non-null    int64\n",
            " 3   AnyTransplants           986 non-null    int64\n",
            " 4   AnyChronicDiseases       986 non-null    int64\n",
            " 5   Height                   986 non-null    int64\n",
            " 6   Weight                   986 non-null    int64\n",
            " 7   KnownAllergies           986 non-null    int64\n",
            " 8   HistoryOfCancerInFamily  986 non-null    int64\n",
            " 9   NumberOfMajorSurgeries   986 non-null    int64\n",
            " 10  PremiumPrice             986 non-null    int64\n",
            "dtypes: int64(11)\n",
            "memory usage: 84.9 KB\n"
          ],
          "name": "stdout"
        }
      ]
    },
    {
      "cell_type": "code",
      "metadata": {
        "colab": {
          "base_uri": "https://localhost:8080/",
          "height": 394
        },
        "id": "TW3CJtsYtMnL",
        "outputId": "9027271d-c074-4a5e-dbac-749681c00000"
      },
      "source": [
        "df.describe().transpose()"
      ],
      "execution_count": 165,
      "outputs": [
        {
          "output_type": "execute_result",
          "data": {
            "text/html": [
              "<div>\n",
              "<style scoped>\n",
              "    .dataframe tbody tr th:only-of-type {\n",
              "        vertical-align: middle;\n",
              "    }\n",
              "\n",
              "    .dataframe tbody tr th {\n",
              "        vertical-align: top;\n",
              "    }\n",
              "\n",
              "    .dataframe thead th {\n",
              "        text-align: right;\n",
              "    }\n",
              "</style>\n",
              "<table border=\"1\" class=\"dataframe\">\n",
              "  <thead>\n",
              "    <tr style=\"text-align: right;\">\n",
              "      <th></th>\n",
              "      <th>count</th>\n",
              "      <th>mean</th>\n",
              "      <th>std</th>\n",
              "      <th>min</th>\n",
              "      <th>25%</th>\n",
              "      <th>50%</th>\n",
              "      <th>75%</th>\n",
              "      <th>max</th>\n",
              "    </tr>\n",
              "  </thead>\n",
              "  <tbody>\n",
              "    <tr>\n",
              "      <th>Age</th>\n",
              "      <td>986.0</td>\n",
              "      <td>41.745436</td>\n",
              "      <td>13.963371</td>\n",
              "      <td>18.0</td>\n",
              "      <td>30.0</td>\n",
              "      <td>42.0</td>\n",
              "      <td>53.0</td>\n",
              "      <td>66.0</td>\n",
              "    </tr>\n",
              "    <tr>\n",
              "      <th>Diabetes</th>\n",
              "      <td>986.0</td>\n",
              "      <td>0.419878</td>\n",
              "      <td>0.493789</td>\n",
              "      <td>0.0</td>\n",
              "      <td>0.0</td>\n",
              "      <td>0.0</td>\n",
              "      <td>1.0</td>\n",
              "      <td>1.0</td>\n",
              "    </tr>\n",
              "    <tr>\n",
              "      <th>BloodPressureProblems</th>\n",
              "      <td>986.0</td>\n",
              "      <td>0.468560</td>\n",
              "      <td>0.499264</td>\n",
              "      <td>0.0</td>\n",
              "      <td>0.0</td>\n",
              "      <td>0.0</td>\n",
              "      <td>1.0</td>\n",
              "      <td>1.0</td>\n",
              "    </tr>\n",
              "    <tr>\n",
              "      <th>AnyTransplants</th>\n",
              "      <td>986.0</td>\n",
              "      <td>0.055781</td>\n",
              "      <td>0.229615</td>\n",
              "      <td>0.0</td>\n",
              "      <td>0.0</td>\n",
              "      <td>0.0</td>\n",
              "      <td>0.0</td>\n",
              "      <td>1.0</td>\n",
              "    </tr>\n",
              "    <tr>\n",
              "      <th>AnyChronicDiseases</th>\n",
              "      <td>986.0</td>\n",
              "      <td>0.180527</td>\n",
              "      <td>0.384821</td>\n",
              "      <td>0.0</td>\n",
              "      <td>0.0</td>\n",
              "      <td>0.0</td>\n",
              "      <td>0.0</td>\n",
              "      <td>1.0</td>\n",
              "    </tr>\n",
              "    <tr>\n",
              "      <th>Height</th>\n",
              "      <td>986.0</td>\n",
              "      <td>168.182556</td>\n",
              "      <td>10.098155</td>\n",
              "      <td>145.0</td>\n",
              "      <td>161.0</td>\n",
              "      <td>168.0</td>\n",
              "      <td>176.0</td>\n",
              "      <td>188.0</td>\n",
              "    </tr>\n",
              "    <tr>\n",
              "      <th>Weight</th>\n",
              "      <td>986.0</td>\n",
              "      <td>76.950304</td>\n",
              "      <td>14.265096</td>\n",
              "      <td>51.0</td>\n",
              "      <td>67.0</td>\n",
              "      <td>75.0</td>\n",
              "      <td>87.0</td>\n",
              "      <td>132.0</td>\n",
              "    </tr>\n",
              "    <tr>\n",
              "      <th>KnownAllergies</th>\n",
              "      <td>986.0</td>\n",
              "      <td>0.215010</td>\n",
              "      <td>0.411038</td>\n",
              "      <td>0.0</td>\n",
              "      <td>0.0</td>\n",
              "      <td>0.0</td>\n",
              "      <td>0.0</td>\n",
              "      <td>1.0</td>\n",
              "    </tr>\n",
              "    <tr>\n",
              "      <th>HistoryOfCancerInFamily</th>\n",
              "      <td>986.0</td>\n",
              "      <td>0.117647</td>\n",
              "      <td>0.322353</td>\n",
              "      <td>0.0</td>\n",
              "      <td>0.0</td>\n",
              "      <td>0.0</td>\n",
              "      <td>0.0</td>\n",
              "      <td>1.0</td>\n",
              "    </tr>\n",
              "    <tr>\n",
              "      <th>NumberOfMajorSurgeries</th>\n",
              "      <td>986.0</td>\n",
              "      <td>0.667343</td>\n",
              "      <td>0.749205</td>\n",
              "      <td>0.0</td>\n",
              "      <td>0.0</td>\n",
              "      <td>1.0</td>\n",
              "      <td>1.0</td>\n",
              "      <td>3.0</td>\n",
              "    </tr>\n",
              "    <tr>\n",
              "      <th>PremiumPrice</th>\n",
              "      <td>986.0</td>\n",
              "      <td>24336.713996</td>\n",
              "      <td>6248.184382</td>\n",
              "      <td>15000.0</td>\n",
              "      <td>21000.0</td>\n",
              "      <td>23000.0</td>\n",
              "      <td>28000.0</td>\n",
              "      <td>40000.0</td>\n",
              "    </tr>\n",
              "  </tbody>\n",
              "</table>\n",
              "</div>"
            ],
            "text/plain": [
              "                         count          mean  ...      75%      max\n",
              "Age                      986.0     41.745436  ...     53.0     66.0\n",
              "Diabetes                 986.0      0.419878  ...      1.0      1.0\n",
              "BloodPressureProblems    986.0      0.468560  ...      1.0      1.0\n",
              "AnyTransplants           986.0      0.055781  ...      0.0      1.0\n",
              "AnyChronicDiseases       986.0      0.180527  ...      0.0      1.0\n",
              "Height                   986.0    168.182556  ...    176.0    188.0\n",
              "Weight                   986.0     76.950304  ...     87.0    132.0\n",
              "KnownAllergies           986.0      0.215010  ...      0.0      1.0\n",
              "HistoryOfCancerInFamily  986.0      0.117647  ...      0.0      1.0\n",
              "NumberOfMajorSurgeries   986.0      0.667343  ...      1.0      3.0\n",
              "PremiumPrice             986.0  24336.713996  ...  28000.0  40000.0\n",
              "\n",
              "[11 rows x 8 columns]"
            ]
          },
          "metadata": {},
          "execution_count": 165
        }
      ]
    },
    {
      "cell_type": "code",
      "metadata": {
        "colab": {
          "base_uri": "https://localhost:8080/"
        },
        "id": "zac0txKnwIXn",
        "outputId": "95219009-58ba-41ee-b26e-868815d8c22f"
      },
      "source": [
        "df.apply(lambda x : len(x.unique()))"
      ],
      "execution_count": 166,
      "outputs": [
        {
          "output_type": "execute_result",
          "data": {
            "text/plain": [
              "Age                        49\n",
              "Diabetes                    2\n",
              "BloodPressureProblems       2\n",
              "AnyTransplants              2\n",
              "AnyChronicDiseases          2\n",
              "Height                     44\n",
              "Weight                     74\n",
              "KnownAllergies              2\n",
              "HistoryOfCancerInFamily     2\n",
              "NumberOfMajorSurgeries      4\n",
              "PremiumPrice               24\n",
              "dtype: int64"
            ]
          },
          "metadata": {},
          "execution_count": 166
        }
      ]
    },
    {
      "cell_type": "code",
      "metadata": {
        "colab": {
          "base_uri": "https://localhost:8080/"
        },
        "id": "EUjxAnuwU9lw",
        "outputId": "3b055d70-5b99-497c-9a09-cb1e75edf068"
      },
      "source": [
        "df['PremiumPrice'].unique()"
      ],
      "execution_count": 167,
      "outputs": [
        {
          "output_type": "execute_result",
          "data": {
            "text/plain": [
              "array([25000, 29000, 23000, 28000, 21000, 15000, 35000, 30000, 32000,\n",
              "       19000, 24000, 38000, 31000, 26000, 39000, 22000, 40000, 18000,\n",
              "       34000, 20000, 16000, 36000, 27000, 17000])"
            ]
          },
          "metadata": {},
          "execution_count": 167
        }
      ]
    },
    {
      "cell_type": "markdown",
      "metadata": {
        "id": "CEjPQpi6PVKi"
      },
      "source": [
        "**Categorical features are :**\n",
        "1.  Diabetes \n",
        "2.   BloodPressureProblems\n",
        "3. AnyTransplants\n",
        "4. AnyChronicDiseases\n",
        "5. KnownAllergies\n",
        "6. HistoryOfCancerInFamily\n",
        "7. NumberOfMajorSurgeries      \n",
        "8. PremiumPrice\n",
        "\n",
        "**Numerical features are :**\n",
        "\n",
        "1. Age\n",
        "2. Height\n",
        "3. Weight\n",
        "\n"
      ]
    },
    {
      "cell_type": "markdown",
      "metadata": {
        "id": "bE-m2qPoWifK"
      },
      "source": [
        "# **Univariate analysis**"
      ]
    },
    {
      "cell_type": "markdown",
      "metadata": {
        "id": "RA3F5UDgyaFL"
      },
      "source": [
        "## **1. Diabetes**\n",
        "## **2. Blood pressure problems**"
      ]
    },
    {
      "cell_type": "code",
      "metadata": {
        "colab": {
          "base_uri": "https://localhost:8080/",
          "height": 386
        },
        "id": "4q4trTRWwevZ",
        "outputId": "81ed23b7-4fd4-420d-b607-f92ff0d7bd33"
      },
      "source": [
        "plt.figure(1, figsize=(5,10))\n",
        "\n",
        "plt.subplot(121)\n",
        "df['Diabetes'].value_counts(normalize= True).plot.bar(figsize=(6,6) , title = 'Diabetes', color = ['blue','green'])\n",
        "\n",
        "plt.subplot(122)\n",
        "df['BloodPressureProblems'].value_counts(normalize= True).plot.bar(figsize=(6,6) , title = 'BloodPressureProblems' , color=['red' , 'green'])\n",
        "plt.show()"
      ],
      "execution_count": 168,
      "outputs": [
        {
          "output_type": "display_data",
          "data": {
            "image/png": "[encoded data removed]",
            "text/plain": [
              "<Figure size 432x432 with 2 Axes>"
            ]
          },
          "metadata": {
            "needs_background": "light"
          }
        }
      ]
    },
    {
      "cell_type": "markdown",
      "metadata": {
        "id": "Hx7XyNNXGUlk"
      },
      "source": [
        "***1. 41% of the user have diabetes***.\n",
        "\n",
        "***2. More than 45% of the user have blood pressure problem.***"
      ]
    },
    {
      "cell_type": "markdown",
      "metadata": {
        "id": "aMQy2350y2sg"
      },
      "source": [
        "## **3. Any transplants**\n",
        "## **4. Any chronic diseases**"
      ]
    },
    {
      "cell_type": "code",
      "metadata": {
        "id": "HQuMTGNlkwip",
        "colab": {
          "base_uri": "https://localhost:8080/",
          "height": 386
        },
        "outputId": "7b89cb18-92a6-4a14-cdcc-d0ebe215dccf"
      },
      "source": [
        "plt.figure(1, figsize=(5,10))\n",
        "\n",
        "plt.subplot(121)\n",
        "df['AnyTransplants'].value_counts(normalize= True).plot.bar(figsize=(6,6) , title = 'AnyTransplants', color = ['blue','green'])\n",
        "\n",
        "plt.subplot(122)\n",
        "df['AnyChronicDiseases'].value_counts(normalize= True).plot.bar(figsize=(6,6) , title = 'AnyChronicDiseases' , color=['pink' , 'green'])\n",
        "plt.show()"
      ],
      "execution_count": 169,
      "outputs": [
        {
          "output_type": "display_data",
          "data": {
            "image/png": "[encoded data removed]",
            "text/plain": [
              "<Figure size 432x432 with 2 Axes>"
            ]
          },
          "metadata": {
            "needs_background": "light"
          }
        }
      ]
    },
    {
      "cell_type": "markdown",
      "metadata": {
        "id": "5kw5aFm_072L"
      },
      "source": [
        "***1. Less than 10% of the users had transplant.***\n",
        "\n",
        "***2. Around 20% of the users have chronic diseases.***"
      ]
    },
    {
      "cell_type": "markdown",
      "metadata": {
        "id": "PMPPMzFTzRoN"
      },
      "source": [
        "## 5. **Known Allergies**\n",
        "## 6. **History of cancer in family**"
      ]
    },
    {
      "cell_type": "code",
      "metadata": {
        "colab": {
          "base_uri": "https://localhost:8080/",
          "height": 386
        },
        "id": "aKwYI3xg0y4N",
        "outputId": "ce40c4c2-8bea-4359-9b35-3cd0660fe307"
      },
      "source": [
        "plt.figure(1, figsize=(5,5))\n",
        "\n",
        "plt.subplot(121)\n",
        "df['KnownAllergies'].value_counts(normalize= True).plot.bar(figsize=(6,6) , title = 'KnownAllergies', color = ['blue','green'])\n",
        "\n",
        "plt.subplot(122)\n",
        "df['HistoryOfCancerInFamily'].value_counts(normalize= True).plot.bar(figsize=(6,6) , title = 'HistoryOfCancerInFamily' , color=['pink' , 'green'])\n",
        "plt.show()"
      ],
      "execution_count": 170,
      "outputs": [
        {
          "output_type": "display_data",
          "data": {
            "image/png": "[encoded data removed]",
            "text/plain": [
              "<Figure size 432x432 with 2 Axes>"
            ]
          },
          "metadata": {
            "needs_background": "light"
          }
        }
      ]
    },
    {
      "cell_type": "markdown",
      "metadata": {
        "id": "PQWT2z9r19BD"
      },
      "source": [
        "**1. Around 20% of the users have known allergies.**\n",
        "\n",
        "**2. Around 10% of the users have history of cancer in family.**"
      ]
    },
    {
      "cell_type": "markdown",
      "metadata": {
        "id": "AIxBYwLCzll1"
      },
      "source": [
        "## 7. **Number of major surgeries**"
      ]
    },
    {
      "cell_type": "code",
      "metadata": {
        "colab": {
          "base_uri": "https://localhost:8080/",
          "height": 386
        },
        "id": "lub9_652121D",
        "outputId": "7b95e1b4-58f9-41fd-ce98-3de914ff3b0c"
      },
      "source": [
        "df['NumberOfMajorSurgeries'].value_counts(normalize= True).plot.bar(figsize=(6,6) , title = 'NumberOfMajorSurgeries' , color=['blue' , 'green','red','pink'])\n",
        "plt.show()"
      ],
      "execution_count": 171,
      "outputs": [
        {
          "output_type": "display_data",
          "data": {
            "image/png": "[encoded data removed]",
            "text/plain": [
              "<Figure size 432x432 with 1 Axes>"
            ]
          },
          "metadata": {
            "needs_background": "light"
          }
        }
      ]
    },
    {
      "cell_type": "markdown",
      "metadata": {
        "id": "4xbh6pYI3Brl"
      },
      "source": [
        "***1. Around 2% of the users had 3 major surgeries.***\n",
        "\n",
        "***2. Around 11% of the users had 2 major surgeries.***\n",
        "\n",
        "***3. Around 39% had 1 major surgeries.***"
      ]
    },
    {
      "cell_type": "markdown",
      "metadata": {
        "id": "jfbII54Q0LJ_"
      },
      "source": [
        "## 8. **Premium price**"
      ]
    },
    {
      "cell_type": "code",
      "metadata": {
        "colab": {
          "base_uri": "https://localhost:8080/",
          "height": 357
        },
        "id": "JeTiewBb4Eqd",
        "outputId": "ede42c7a-d2e6-4059-f141-79c373f58ba0"
      },
      "source": [
        "plt.figure(1, figsize=(15,5))\n",
        "df['PremiumPrice'].value_counts(normalize= True).plot.bar(title = 'PremiumPrice' )\n",
        "plt.show()"
      ],
      "execution_count": 172,
      "outputs": [
        {
          "output_type": "display_data",
          "data": {
            "image/png": "[encoded data removed]",
            "text/plain": [
              "<Figure size 1080x360 with 1 Axes>"
            ]
          },
          "metadata": {
            "needs_background": "light"
          }
        }
      ]
    },
    {
      "cell_type": "markdown",
      "metadata": {
        "id": "zSBexN6g0Uay"
      },
      "source": [
        "***50 % of the premium price lies between Rs. 21000 - 28000.***"
      ]
    },
    {
      "cell_type": "markdown",
      "metadata": {
        "id": "eAVRSzt9pAPx"
      },
      "source": [
        "\n",
        "\n",
        "# **Bivariate analysis**"
      ]
    },
    {
      "cell_type": "markdown",
      "metadata": {
        "id": "a5po63yXGsel"
      },
      "source": [
        "## **Age vs Premium price**"
      ]
    },
    {
      "cell_type": "code",
      "metadata": {
        "colab": {
          "base_uri": "https://localhost:8080/",
          "height": 297
        },
        "id": "jGHmX6HRpExM",
        "outputId": "d38f42f5-51fb-4d04-ba94-fa6926b6e0f0"
      },
      "source": [
        "sns.regplot(x='Age' , y='PremiumPrice', data= df)"
      ],
      "execution_count": 173,
      "outputs": [
        {
          "output_type": "execute_result",
          "data": {
            "text/plain": [
              "<matplotlib.axes._subplots.AxesSubplot at 0x7f38944bf150>"
            ]
          },
          "metadata": {},
          "execution_count": 173
        },
        {
          "output_type": "display_data",
          "data": {
            "image/png": "[encoded data removed]",
            "text/plain": [
              "<Figure size 432x288 with 1 Axes>"
            ]
          },
          "metadata": {
            "needs_background": "light"
          }
        }
      ]
    },
    {
      "cell_type": "markdown",
      "metadata": {
        "id": "knQPs3_ZIzn7"
      },
      "source": [
        "***There is a strong positive relation between Premium price and Age.***"
      ]
    },
    {
      "cell_type": "markdown",
      "metadata": {
        "id": "6gZMawRO91AF"
      },
      "source": [
        "## **Height vs Premium price**\n"
      ]
    },
    {
      "cell_type": "code",
      "metadata": {
        "colab": {
          "base_uri": "https://localhost:8080/",
          "height": 279
        },
        "id": "TVEl4acA90n4",
        "outputId": "e3ab1a8c-26fa-42c3-8a5a-03c89b791959"
      },
      "source": [
        "sns.regplot(x='Height' , y='PremiumPrice', data= df);"
      ],
      "execution_count": 174,
      "outputs": [
        {
          "output_type": "display_data",
          "data": {
            "image/png": "[encoded data removed]",
            "text/plain": [
              "<Figure size 432x288 with 1 Axes>"
            ]
          },
          "metadata": {
            "needs_background": "light"
          }
        }
      ]
    },
    {
      "cell_type": "markdown",
      "metadata": {
        "id": "JxDcW2wCxRV0"
      },
      "source": [
        "\n",
        "***There is no significant relation between Height of the user and the premium price.***"
      ]
    },
    {
      "cell_type": "markdown",
      "metadata": {
        "id": "giYF9Euc-HAu"
      },
      "source": [
        "## **Weight vs Premium Price**"
      ]
    },
    {
      "cell_type": "code",
      "metadata": {
        "colab": {
          "base_uri": "https://localhost:8080/",
          "height": 279
        },
        "id": "nSQXT4ob-QxJ",
        "outputId": "8bedb753-f53f-408d-92e3-b6a00894112f"
      },
      "source": [
        "sns.regplot(x='Weight' , y='PremiumPrice', data= df);"
      ],
      "execution_count": 175,
      "outputs": [
        {
          "output_type": "display_data",
          "data": {
            "image/png": "[encoded data removed]",
            "text/plain": [
              "<Figure size 432x288 with 1 Axes>"
            ]
          },
          "metadata": {
            "needs_background": "light"
          }
        }
      ]
    },
    {
      "cell_type": "markdown",
      "metadata": {
        "id": "GsKdTLrNvtVB"
      },
      "source": [
        "***There is no significant realation betweem weight and Premium Price***"
      ]
    },
    {
      "cell_type": "markdown",
      "metadata": {
        "id": "e-2FJQsuRqO_"
      },
      "source": [
        "## **Diabetes vs PremiumPrice**"
      ]
    },
    {
      "cell_type": "code",
      "metadata": {
        "colab": {
          "base_uri": "https://localhost:8080/",
          "height": 401
        },
        "id": "LHIOD1CYg9FW",
        "outputId": "491d594f-67eb-4429-8dc4-1f622aad616b"
      },
      "source": [
        "plt.figure(1, figsize=(15,5))\n",
        "sns.catplot(x='Diabetes' , y='PremiumPrice',kind=\"box\", data= df)\n",
        "plt.grid()\n",
        "plt.show()"
      ],
      "execution_count": 176,
      "outputs": [
        {
          "output_type": "display_data",
          "data": {
            "text/plain": [
              "<Figure size 1080x360 with 0 Axes>"
            ]
          },
          "metadata": {}
        },
        {
          "output_type": "display_data",
          "data": {
            "image/png": "[encoded data removed]",
            "text/plain": [
              "<Figure size 360x360 with 1 Axes>"
            ]
          },
          "metadata": {
            "needs_background": "light"
          }
        }
      ]
    },
    {
      "cell_type": "markdown",
      "metadata": {
        "id": "BwthSg-uqWZe"
      },
      "source": [
        "**1. The Premium price of 50% of the users with diabetes lies in the range of Rs. 23000 to 28000**\n",
        "\n",
        "**2. There are few outliers in the second boxplot indicating that factors other than diabetes contributes in determining the premium prices.**\n"
      ]
    },
    {
      "cell_type": "markdown",
      "metadata": {
        "id": "K1qoqNAXwTXH"
      },
      "source": [
        "## **BloodPressureProblems vs Premium price**\n",
        "\n"
      ]
    },
    {
      "cell_type": "code",
      "metadata": {
        "colab": {
          "base_uri": "https://localhost:8080/",
          "height": 401
        },
        "id": "cUY9wYB1sOmF",
        "outputId": "d003f7d3-1807-4569-cf0e-728aff74c2b3"
      },
      "source": [
        "plt.figure(1, figsize=(15,5))\n",
        "sns.catplot(x='BloodPressureProblems' , y='PremiumPrice',kind=\"box\", data= df)\n",
        "plt.grid()\n",
        "plt.show()"
      ],
      "execution_count": 177,
      "outputs": [
        {
          "output_type": "display_data",
          "data": {
            "text/plain": [
              "<Figure size 1080x360 with 0 Axes>"
            ]
          },
          "metadata": {}
        },
        {
          "output_type": "display_data",
          "data": {
            "image/png": "[encoded data removed]",
            "text/plain": [
              "<Figure size 360x360 with 1 Axes>"
            ]
          },
          "metadata": {
            "needs_background": "light"
          }
        }
      ]
    },
    {
      "cell_type": "markdown",
      "metadata": {
        "id": "McFoFm-Fch4o"
      },
      "source": [
        "***1. The Premium price of 50% of the users with Blood pressure problems lies in the range of Rs. 23000 to 28000***\n",
        "\n",
        "***2. The average premium price of the user with blood pressure problems is Rs. 25000***"
      ]
    },
    {
      "cell_type": "markdown",
      "metadata": {
        "id": "q92AJfgCuqk2"
      },
      "source": [
        "## **Any transplants vs Premium price**"
      ]
    },
    {
      "cell_type": "code",
      "metadata": {
        "colab": {
          "base_uri": "https://localhost:8080/",
          "height": 401
        },
        "id": "jOKlIdlKdFZc",
        "outputId": "a73a2fd7-4621-450c-8f50-a5c23042a16b"
      },
      "source": [
        "plt.figure(1, figsize=(15,5))\n",
        "sns.catplot(x='AnyTransplants' , y='PremiumPrice',kind=\"box\", data= df)\n",
        "plt.grid()\n",
        "plt.show()"
      ],
      "execution_count": 178,
      "outputs": [
        {
          "output_type": "display_data",
          "data": {
            "text/plain": [
              "<Figure size 1080x360 with 0 Axes>"
            ]
          },
          "metadata": {}
        },
        {
          "output_type": "display_data",
          "data": {
            "image/png": "[encoded data removed]",
            "text/plain": [
              "<Figure size 360x360 with 1 Axes>"
            ]
          },
          "metadata": {
            "needs_background": "light"
          }
        }
      ]
    },
    {
      "cell_type": "markdown",
      "metadata": {
        "id": "UyXopBjldjIi"
      },
      "source": [
        "***1. The Premium price of 50% of the users with Organ transplant lies in the range of Rs. 28000 to 38000***\n",
        "\n",
        "\n",
        "\n"
      ]
    },
    {
      "cell_type": "markdown",
      "metadata": {
        "id": "UfKZH7PVugAy"
      },
      "source": [
        "## **Any chronic diseases vs Premium price**"
      ]
    },
    {
      "cell_type": "code",
      "metadata": {
        "colab": {
          "base_uri": "https://localhost:8080/",
          "height": 401
        },
        "id": "mdCsKCggeAc2",
        "outputId": "a71e8afb-633e-4501-c0b5-b6ed721cdd25"
      },
      "source": [
        "plt.figure(1)\n",
        "sns.catplot(x='AnyChronicDiseases' , y='PremiumPrice',kind=\"box\", data= df)\n",
        "plt.grid()\n",
        "plt.show()\n"
      ],
      "execution_count": 179,
      "outputs": [
        {
          "output_type": "display_data",
          "data": {
            "text/plain": [
              "<Figure size 432x288 with 0 Axes>"
            ]
          },
          "metadata": {}
        },
        {
          "output_type": "display_data",
          "data": {
            "image/png": "[encoded data removed]",
            "text/plain": [
              "<Figure size 360x360 with 1 Axes>"
            ]
          },
          "metadata": {
            "needs_background": "light"
          }
        }
      ]
    },
    {
      "cell_type": "markdown",
      "metadata": {
        "id": "UjBCw9KjrXCG"
      },
      "source": [
        "***The Premium price of 50% of the users with Any chronic diseases lies in the range of Rs. 23000 to 30000***\n",
        "\n",
        "***The average premium price of the user with Any chronic diseases is Rs. 28000***"
      ]
    },
    {
      "cell_type": "markdown",
      "metadata": {
        "id": "kB5-710LuE9U"
      },
      "source": [
        "## **Known allergies vs Premium price**"
      ]
    },
    {
      "cell_type": "code",
      "metadata": {
        "colab": {
          "base_uri": "https://localhost:8080/",
          "height": 383
        },
        "id": "PcFGVk7agK_W",
        "outputId": "47e79b6d-dd93-492d-a756-32cddb6169ea"
      },
      "source": [
        "sns.catplot(x='KnownAllergies', y= 'PremiumPrice', kind=\"box\", data= df)\n",
        "plt.grid()"
      ],
      "execution_count": 180,
      "outputs": [
        {
          "output_type": "display_data",
          "data": {
            "image/png": "[encoded data removed]",
            "text/plain": [
              "<Figure size 360x360 with 1 Axes>"
            ]
          },
          "metadata": {
            "needs_background": "light"
          }
        }
      ]
    },
    {
      "cell_type": "markdown",
      "metadata": {
        "id": "yIS1LFMSrs2a"
      },
      "source": [
        "***The Premium price of 50% of the users with Known Allergies lies in the range of Rs. 21000 to 29000.***\n",
        "\n",
        "***The average premium price of the user with known allergies is Rs. 23000***"
      ]
    },
    {
      "cell_type": "markdown",
      "metadata": {
        "id": "p6mGVW1MtNyh"
      },
      "source": [
        "## **History of cancer in family vs premium price**"
      ]
    },
    {
      "cell_type": "code",
      "metadata": {
        "colab": {
          "base_uri": "https://localhost:8080/",
          "height": 383
        },
        "id": "_Nr8Xwf2geIe",
        "outputId": "dfe1cbae-e4ac-49a5-c684-0907cbff71b8"
      },
      "source": [
        "sns.catplot(x='HistoryOfCancerInFamily', y='PremiumPrice', kind=\"box\", data= df)\n",
        "plt.grid()"
      ],
      "execution_count": 181,
      "outputs": [
        {
          "output_type": "display_data",
          "data": {
            "image/png": "[encoded data removed]",
            "text/plain": [
              "<Figure size 360x360 with 1 Axes>"
            ]
          },
          "metadata": {
            "needs_background": "light"
          }
        }
      ]
    },
    {
      "cell_type": "markdown",
      "metadata": {
        "id": "dBi6J1Gvr6cb"
      },
      "source": [
        "***The Premium price of 50% of the users with History of cancer in family lies in the range of Rs. 21000 to 31000***\n",
        "\n",
        "***The average premium price of the user with history of cancer in family is Rs. 28000***"
      ]
    },
    {
      "cell_type": "markdown",
      "metadata": {
        "id": "Qy4YI2_TtDAr"
      },
      "source": [
        "## **Number of major surgeries vs premium price**"
      ]
    },
    {
      "cell_type": "code",
      "metadata": {
        "colab": {
          "base_uri": "https://localhost:8080/",
          "height": 383
        },
        "id": "fbAS2B0lg6pB",
        "outputId": "ef8dc3ec-58f0-4c1a-9025-8ee51659b021"
      },
      "source": [
        "sns.catplot(x='NumberOfMajorSurgeries', y='PremiumPrice', kind=\"box\", data= df)\n",
        "plt.grid()"
      ],
      "execution_count": 182,
      "outputs": [
        {
          "output_type": "display_data",
          "data": {
            "image/png": "[encoded data removed]",
            "text/plain": [
              "<Figure size 360x360 with 1 Axes>"
            ]
          },
          "metadata": {
            "needs_background": "light"
          }
        }
      ]
    },
    {
      "cell_type": "markdown",
      "metadata": {
        "id": "GxarhE0JsUga"
      },
      "source": [
        "***The average premium price of the users with 2-3 major surgeries is Rs.28000***\n",
        "\n",
        "\n",
        "***The average premium price of the users with 1 major surgeries is Rs.25000***\n"
      ]
    },
    {
      "cell_type": "markdown",
      "metadata": {
        "id": "sCsJrbQskLzR"
      },
      "source": [
        "# **Multivariate**"
      ]
    },
    {
      "cell_type": "code",
      "metadata": {
        "id": "xHcUXSkwkP6V"
      },
      "source": [
        "data= pd.crosstab(df.BloodPressureProblems, df.Diabetes)"
      ],
      "execution_count": 183,
      "outputs": []
    },
    {
      "cell_type": "code",
      "metadata": {
        "colab": {
          "base_uri": "https://localhost:8080/",
          "height": 143
        },
        "id": "TDV9nzEwllCk",
        "outputId": "e96b2779-11a2-4e14-acfb-2e3f50b131d3"
      },
      "source": [
        "data.head()"
      ],
      "execution_count": 184,
      "outputs": [
        {
          "output_type": "execute_result",
          "data": {
            "text/html": [
              "<div>\n",
              "<style scoped>\n",
              "    .dataframe tbody tr th:only-of-type {\n",
              "        vertical-align: middle;\n",
              "    }\n",
              "\n",
              "    .dataframe tbody tr th {\n",
              "        vertical-align: top;\n",
              "    }\n",
              "\n",
              "    .dataframe thead th {\n",
              "        text-align: right;\n",
              "    }\n",
              "</style>\n",
              "<table border=\"1\" class=\"dataframe\">\n",
              "  <thead>\n",
              "    <tr style=\"text-align: right;\">\n",
              "      <th>Diabetes</th>\n",
              "      <th>0</th>\n",
              "      <th>1</th>\n",
              "    </tr>\n",
              "    <tr>\n",
              "      <th>BloodPressureProblems</th>\n",
              "      <th></th>\n",
              "      <th></th>\n",
              "    </tr>\n",
              "  </thead>\n",
              "  <tbody>\n",
              "    <tr>\n",
              "      <th>0</th>\n",
              "      <td>335</td>\n",
              "      <td>189</td>\n",
              "    </tr>\n",
              "    <tr>\n",
              "      <th>1</th>\n",
              "      <td>237</td>\n",
              "      <td>225</td>\n",
              "    </tr>\n",
              "  </tbody>\n",
              "</table>\n",
              "</div>"
            ],
            "text/plain": [
              "Diabetes                 0    1\n",
              "BloodPressureProblems          \n",
              "0                      335  189\n",
              "1                      237  225"
            ]
          },
          "metadata": {},
          "execution_count": 184
        }
      ]
    },
    {
      "cell_type": "code",
      "metadata": {
        "colab": {
          "base_uri": "https://localhost:8080/"
        },
        "id": "E6wlfjNMoCGe",
        "outputId": "256eedbe-e1c3-4995-98e1-9f321295b134"
      },
      "source": [
        "print((225/(335+189+237+225))*100)"
      ],
      "execution_count": 185,
      "outputs": [
        {
          "output_type": "stream",
          "text": [
            "22.81947261663286\n"
          ],
          "name": "stdout"
        }
      ]
    },
    {
      "cell_type": "markdown",
      "metadata": {
        "id": "S3RsK1imeosM"
      },
      "source": [
        "***There are 225 users(23% approx) who have both Diabetes and Blood pressure problems*** "
      ]
    },
    {
      "cell_type": "markdown",
      "metadata": {
        "id": "4DmMQFaNcX_2"
      },
      "source": [
        "## **Age of users with chronic disease vs Premium Price**"
      ]
    },
    {
      "cell_type": "code",
      "metadata": {
        "id": "eMUWtvkPn277"
      },
      "source": [
        "# creating a new column and grouping age of user in different age group\n",
        "bins=[17,30,40,50,60,70]\n",
        "df['Age_group']=pd.cut(df.Age ,bins)"
      ],
      "execution_count": 186,
      "outputs": []
    },
    {
      "cell_type": "code",
      "metadata": {
        "id": "nMKllLibiS90"
      },
      "source": [
        "#df[df['Age_group'].isnull()]"
      ],
      "execution_count": 187,
      "outputs": []
    },
    {
      "cell_type": "code",
      "metadata": {
        "id": "YpIq3lVIQND2"
      },
      "source": [
        "chronicPatient_age= df[df['AnyChronicDiseases']==1]['Age_group']\n",
        "chronicPatient_Premium = df[df['AnyChronicDiseases']==1]['PremiumPrice']"
      ],
      "execution_count": 188,
      "outputs": []
    },
    {
      "cell_type": "code",
      "metadata": {
        "colab": {
          "base_uri": "https://localhost:8080/",
          "height": 280
        },
        "id": "9llvPs4eQSN9",
        "outputId": "4a6a9068-317d-4df1-ad1e-21df772d03a9"
      },
      "source": [
        "sns.barplot(x= chronicPatient_age, y=chronicPatient_Premium);"
      ],
      "execution_count": 189,
      "outputs": [
        {
          "output_type": "display_data",
          "data": {
            "image/png": "[encoded data removed]",
            "text/plain": [
              "<Figure size 432x288 with 1 Axes>"
            ]
          },
          "metadata": {
            "needs_background": "light"
          }
        }
      ]
    },
    {
      "cell_type": "markdown",
      "metadata": {
        "id": "-ff11xDWcVSF"
      },
      "source": [
        "***As the age of users with chronic disease increases the premium price increases.***\n",
        "\n"
      ]
    },
    {
      "cell_type": "markdown",
      "metadata": {
        "id": "-7dKWphLfoV8"
      },
      "source": [
        "##  **BMI vs Premium price**"
      ]
    },
    {
      "cell_type": "code",
      "metadata": {
        "id": "kQOJsVzjTJjI"
      },
      "source": [
        "# calculating BMI\n",
        "df['BMI']= round(df['Weight']/(df['Height']/100)**2 , 1)"
      ],
      "execution_count": 190,
      "outputs": []
    },
    {
      "cell_type": "code",
      "metadata": {
        "colab": {
          "base_uri": "https://localhost:8080/",
          "height": 163
        },
        "id": "B1X-b9euSDS7",
        "outputId": "ff41121c-a9e2-4557-f9fe-5d4878ce5c56"
      },
      "source": [
        "df.sample(3)"
      ],
      "execution_count": 191,
      "outputs": [
        {
          "output_type": "execute_result",
          "data": {
            "text/html": [
              "<div>\n",
              "<style scoped>\n",
              "    .dataframe tbody tr th:only-of-type {\n",
              "        vertical-align: middle;\n",
              "    }\n",
              "\n",
              "    .dataframe tbody tr th {\n",
              "        vertical-align: top;\n",
              "    }\n",
              "\n",
              "    .dataframe thead th {\n",
              "        text-align: right;\n",
              "    }\n",
              "</style>\n",
              "<table border=\"1\" class=\"dataframe\">\n",
              "  <thead>\n",
              "    <tr style=\"text-align: right;\">\n",
              "      <th></th>\n",
              "      <th>Age</th>\n",
              "      <th>Diabetes</th>\n",
              "      <th>BloodPressureProblems</th>\n",
              "      <th>AnyTransplants</th>\n",
              "      <th>AnyChronicDiseases</th>\n",
              "      <th>Height</th>\n",
              "      <th>Weight</th>\n",
              "      <th>KnownAllergies</th>\n",
              "      <th>HistoryOfCancerInFamily</th>\n",
              "      <th>NumberOfMajorSurgeries</th>\n",
              "      <th>PremiumPrice</th>\n",
              "      <th>Age_group</th>\n",
              "      <th>BMI</th>\n",
              "    </tr>\n",
              "  </thead>\n",
              "  <tbody>\n",
              "    <tr>\n",
              "      <th>176</th>\n",
              "      <td>42</td>\n",
              "      <td>0</td>\n",
              "      <td>0</td>\n",
              "      <td>0</td>\n",
              "      <td>0</td>\n",
              "      <td>176</td>\n",
              "      <td>71</td>\n",
              "      <td>1</td>\n",
              "      <td>0</td>\n",
              "      <td>1</td>\n",
              "      <td>23000</td>\n",
              "      <td>(40, 50]</td>\n",
              "      <td>22.9</td>\n",
              "    </tr>\n",
              "    <tr>\n",
              "      <th>544</th>\n",
              "      <td>61</td>\n",
              "      <td>1</td>\n",
              "      <td>1</td>\n",
              "      <td>0</td>\n",
              "      <td>0</td>\n",
              "      <td>167</td>\n",
              "      <td>75</td>\n",
              "      <td>0</td>\n",
              "      <td>0</td>\n",
              "      <td>1</td>\n",
              "      <td>29000</td>\n",
              "      <td>(60, 70]</td>\n",
              "      <td>26.9</td>\n",
              "    </tr>\n",
              "    <tr>\n",
              "      <th>403</th>\n",
              "      <td>55</td>\n",
              "      <td>1</td>\n",
              "      <td>1</td>\n",
              "      <td>0</td>\n",
              "      <td>0</td>\n",
              "      <td>156</td>\n",
              "      <td>76</td>\n",
              "      <td>1</td>\n",
              "      <td>0</td>\n",
              "      <td>0</td>\n",
              "      <td>29000</td>\n",
              "      <td>(50, 60]</td>\n",
              "      <td>31.2</td>\n",
              "    </tr>\n",
              "  </tbody>\n",
              "</table>\n",
              "</div>"
            ],
            "text/plain": [
              "     Age  Diabetes  BloodPressureProblems  ...  PremiumPrice  Age_group   BMI\n",
              "176   42         0                      0  ...         23000   (40, 50]  22.9\n",
              "544   61         1                      1  ...         29000   (60, 70]  26.9\n",
              "403   55         1                      1  ...         29000   (50, 60]  31.2\n",
              "\n",
              "[3 rows x 13 columns]"
            ]
          },
          "metadata": {},
          "execution_count": 191
        }
      ]
    },
    {
      "cell_type": "code",
      "metadata": {
        "id": "18iW-9bGmWea"
      },
      "source": [
        "#df.describe()"
      ],
      "execution_count": 192,
      "outputs": []
    },
    {
      "cell_type": "code",
      "metadata": {
        "id": "-cG68fWahjFX"
      },
      "source": [
        "Bins=[0,18.4,24.9,29.9,55]\n",
        "BMI_category= ['Underweight','Normalweight','Overweight','Obesity']\n",
        "df['BMI_category']= pd.cut(df.BMI , Bins , labels= BMI_category)"
      ],
      "execution_count": 193,
      "outputs": []
    },
    {
      "cell_type": "code",
      "metadata": {
        "id": "RrwXJ1ntqbe1"
      },
      "source": [
        "#df.sample(3)"
      ],
      "execution_count": 194,
      "outputs": []
    },
    {
      "cell_type": "code",
      "metadata": {
        "colab": {
          "base_uri": "https://localhost:8080/",
          "height": 280
        },
        "id": "w8vVM2XCm9P3",
        "outputId": "f471476c-8751-4581-f807-0a4f7cb24a84"
      },
      "source": [
        "sns.barplot(x='BMI_category', y='PremiumPrice', data= df);"
      ],
      "execution_count": 195,
      "outputs": [
        {
          "output_type": "display_data",
          "data": {
            "image/png": "[encoded data removed]",
            "text/plain": [
              "<Figure size 432x288 with 1 Axes>"
            ]
          },
          "metadata": {
            "needs_background": "light"
          }
        }
      ]
    },
    {
      "cell_type": "markdown",
      "metadata": {
        "id": "7-bg-jNe9QIF"
      },
      "source": [
        "## **Correlation matrix**"
      ]
    },
    {
      "cell_type": "code",
      "metadata": {
        "id": "i5PgD38JJvy6"
      },
      "source": [
        "# dropping the calculated field\n",
        "col=['Age_group','BMI','BMI_category']\n",
        "df= df.drop(col, axis=1)"
      ],
      "execution_count": 196,
      "outputs": []
    },
    {
      "cell_type": "code",
      "metadata": {
        "id": "9ere5Nnk5zDn"
      },
      "source": [
        "matrix= df.corr()"
      ],
      "execution_count": 197,
      "outputs": []
    },
    {
      "cell_type": "code",
      "metadata": {
        "colab": {
          "base_uri": "https://localhost:8080/",
          "height": 549
        },
        "id": "nk0YTzyh_URO",
        "outputId": "9cd03dfd-d88a-4eee-b06b-38f560896e76"
      },
      "source": [
        "plt.figure(figsize=(15,7))\n",
        "sns.heatmap( matrix, annot=True , cmap= 'coolwarm' )\n",
        "plt.show()"
      ],
      "execution_count": 198,
      "outputs": [
        {
          "output_type": "display_data",
          "data": {
            "image/png": "[encoded data removed]",
            "text/plain": [
              "<Figure size 1080x504 with 2 Axes>"
            ]
          },
          "metadata": {
            "needs_background": "light"
          }
        }
      ]
    },
    {
      "cell_type": "markdown",
      "metadata": {
        "id": "13vLTpXgkLrk"
      },
      "source": [
        "***1. Age and Premium price are positively related.***\n",
        "\n",
        "***2. Premium price and Anytransplants are positively related.***\n",
        "\n",
        "***3. Premium price and Number of major surgeries are positively related.***\n",
        "\n",
        "***4. Premium price and Any chronic disease are positively related***"
      ]
    },
    {
      "cell_type": "markdown",
      "metadata": {
        "id": "f9AgXXYXmB5J"
      },
      "source": [
        "#  **Feature Importance**\n"
      ]
    },
    {
      "cell_type": "code",
      "metadata": {
        "id": "ktfnxHc3kK07"
      },
      "source": [
        "X = df.iloc[:, 0:9]"
      ],
      "execution_count": 199,
      "outputs": []
    },
    {
      "cell_type": "code",
      "metadata": {
        "id": "Hr9ac5xr_bS4"
      },
      "source": [
        "Y = df.iloc[ : , -1]"
      ],
      "execution_count": 200,
      "outputs": []
    },
    {
      "cell_type": "code",
      "metadata": {
        "id": "N7zKg5H-EPfi"
      },
      "source": [
        "from sklearn.ensemble import ExtraTreesClassifier"
      ],
      "execution_count": 201,
      "outputs": []
    },
    {
      "cell_type": "code",
      "metadata": {
        "id": "kaQBO1nYEi4-"
      },
      "source": [
        "model = ExtraTreesClassifier()"
      ],
      "execution_count": 202,
      "outputs": []
    },
    {
      "cell_type": "code",
      "metadata": {
        "colab": {
          "base_uri": "https://localhost:8080/"
        },
        "id": "vra90S7xFsMo",
        "outputId": "3f06b2fc-f549-4a51-961f-d51f0302938a"
      },
      "source": [
        "model.fit(X,Y)\n",
        "print(model.feature_importances_)"
      ],
      "execution_count": 203,
      "outputs": [
        {
          "output_type": "stream",
          "text": [
            "[0.46040869 0.02849464 0.02785804 0.03634365 0.0498144  0.1415692\n",
            " 0.19368289 0.02512639 0.03670211]\n"
          ],
          "name": "stdout"
        }
      ]
    },
    {
      "cell_type": "code",
      "metadata": {
        "id": "Ej93M1vWFv9g",
        "colab": {
          "base_uri": "https://localhost:8080/",
          "height": 265
        },
        "outputId": "5d532fa7-77df-48e7-a68f-005687423fe8"
      },
      "source": [
        "feat_importances = pd.Series(model.feature_importances_, index=X.columns)\n",
        "feat_importances.nlargest(10).plot(kind='barh')\n",
        "plt.show()"
      ],
      "execution_count": 204,
      "outputs": [
        {
          "output_type": "display_data",
          "data": {
            "image/png": "[encoded data removed]",
            "text/plain": [
              "<Figure size 432x288 with 1 Axes>"
            ]
          },
          "metadata": {
            "needs_background": "light"
          }
        }
      ]
    },
    {
      "cell_type": "code",
      "metadata": {
        "id": "igIMPgSEGMGu"
      },
      "source": [
        ""
      ],
      "execution_count": 204,
      "outputs": []
    }
  ]
}